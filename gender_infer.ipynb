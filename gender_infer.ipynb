{
 "cells": [
  {
   "cell_type": "code",
   "execution_count": null,
   "id": "592daf5a",
   "metadata": {},
   "outputs": [],
   "source": [
    "import pandas as pd\n",
    "import gender_guesser.detector as gd\n",
    "from gender_detector.gender_detector import GenderDetector"
   ]
  },
  {
   "cell_type": "code",
   "execution_count": null,
   "id": "7c5c43d5",
   "metadata": {},
   "outputs": [],
   "source": [
    "df = pd.read_csv(\"data/ijhs_202324.csv\")\n",
    "df.columns = [c.upper() for c in df.columns]"
   ]
  },
  {
   "cell_type": "code",
   "execution_count": null,
   "id": "4ce9ac3d",
   "metadata": {},
   "outputs": [],
   "source": [
    "df.rename(columns={\"STUDENT NAME\": \"NAME\"}, inplace=True)"
   ]
  },
  {
   "cell_type": "code",
   "execution_count": null,
   "id": "97c5537d",
   "metadata": {},
   "outputs": [],
   "source": [
    "unique_countries = df['COUNTRY'].nunique()\n",
    "print(f\"Unique countries: {unique_countries}\")\n",
    "\n",
    "countries_list = df['COUNTRY'].unique()\n",
    "print(\"Countries list:\", countries_list)\n",
    "\n",
    "unique_schools = df['SCHOOL'].nunique()\n",
    "print(f\"Unique schools: {unique_schools}\")"
   ]
  },
  {
   "cell_type": "code",
   "execution_count": null,
   "id": "3f67a883",
   "metadata": {},
   "outputs": [],
   "source": [
    "ASIA_FAMILY_FIRST = {\n",
    "    \"CHINA\",\n",
    "    \"CHINA HONG KONG\",\n",
    "    \"CHINA MACAU\",\n",
    "    \"CAMBODIA\",\n",
    "    \"JAPAN\",\n",
    "    \"SOUTH KOREA\",\n",
    "    \"VIETNAM\",\n",
    "    \"TAIWAN\",\n",
    "    \"HONG KONG\",\n",
    "    \"MYANMAR\",\n",
    "    \"THAILAND\",\n",
    "}\n",
    "\n",
    "\n",
    "def get_given_name(full_name, country):\n",
    "    if pd.isna(full_name) or pd.isna(country):\n",
    "        return None\n",
    "    \n",
    "    full_name = str(full_name).strip()\n",
    "    \n",
    "    if not full_name:\n",
    "        return None\n",
    "        \n",
    "    tokens = full_name.split()\n",
    "    if not tokens:\n",
    "        return None\n",
    "        \n",
    "    if country.upper() in ASIA_FAMILY_FIRST and len(tokens) > 1:\n",
    "        return tokens[-1]\n",
    "    else:\n",
    "        return tokens[0]"
   ]
  },
  {
   "cell_type": "code",
   "execution_count": null,
   "id": "c1dd27f3",
   "metadata": {},
   "outputs": [],
   "source": [
    "det = gd.Detector(case_sensitive=False)\n",
    "\n",
    "\n",
    "def round_1(name):\n",
    "    if pd.isna(name) or name is None:\n",
    "        return \"unknown\"\n",
    "    \n",
    "    g = det.get_gender(name)\n",
    "    if g in (\"female\", \"mostly_female\"):\n",
    "        return \"female\"\n",
    "    if g in (\"male\", \"mostly_male\"):\n",
    "        return \"male\"\n",
    "    return \"unknown\""
   ]
  },
  {
   "cell_type": "code",
   "execution_count": null,
   "id": "e5a3cdb8",
   "metadata": {},
   "outputs": [],
   "source": [
    "detector = GenderDetector('us')\n",
    "\n",
    "def round_2(name: str) -> str:\n",
    "    if pd.isna(name) or name is None:\n",
    "        return 'unknown'\n",
    "    \n",
    "    name = str(name)\n",
    "    \n",
    "    cleaned_name = ''.join(c for c in name if c.isalpha() or c.isspace())\n",
    "    cleaned_name = cleaned_name.strip()\n",
    "    \n",
    "    if not cleaned_name:\n",
    "        return 'unknown'\n",
    "    \n",
    "    first_word = cleaned_name.split()[0]\n",
    "    \n",
    "    try:\n",
    "        g = detector.guess(first_word)\n",
    "        if g in ('male', 'mostly_male'):\n",
    "            return 'male'\n",
    "        if g in ('female', 'mostly_female'):\n",
    "            return 'female'\n",
    "        return 'unknown'\n",
    "    except (KeyError, IndexError, Exception):\n",
    "        return 'unknown'"
   ]
  },
  {
   "cell_type": "code",
   "execution_count": null,
   "id": "3a969d6a",
   "metadata": {},
   "outputs": [],
   "source": [
    "df[\"given\"] = df.apply(lambda r: get_given_name(r.NAME, r.COUNTRY), axis=1)\n",
    "df[\"g1\"] = df[\"given\"].apply(round_1)\n",
    "df[\"g2\"] = df[\"given\"].apply(round_2)"
   ]
  },
  {
   "cell_type": "code",
   "execution_count": null,
   "id": "60d4d86b",
   "metadata": {},
   "outputs": [],
   "source": [
    "def ensemble(g1, g2):\n",
    "    for g in (g1, g2):\n",
    "        if g in (\"male\", \"female\"):\n",
    "            return g\n",
    "    return \"unknown\"\n",
    "\n",
    "\n",
    "df[\"gender\"] = df.apply(lambda r: ensemble(r.g1, r.g2), axis=1)"
   ]
  },
  {
   "cell_type": "code",
   "execution_count": null,
   "id": "de5596bc",
   "metadata": {},
   "outputs": [],
   "source": [
    "print(df[\"gender\"].value_counts(dropna=False))"
   ]
  }
 ],
 "metadata": {
  "kernelspec": {
   "display_name": ".venv",
   "language": "python",
   "name": "python3"
  },
  "language_info": {
   "codemirror_mode": {
    "name": "ipython",
    "version": 3
   },
   "file_extension": ".py",
   "mimetype": "text/x-python",
   "name": "python",
   "nbconvert_exporter": "python",
   "pygments_lexer": "ipython3",
   "version": "3.10.9"
  }
 },
 "nbformat": 4,
 "nbformat_minor": 5
}
