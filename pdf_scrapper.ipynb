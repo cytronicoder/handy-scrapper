{
 "cells": [
  {
   "cell_type": "code",
   "execution_count": null,
   "id": "266efda1",
   "metadata": {},
   "outputs": [],
   "source": [
    "import os\n",
    "import tabula\n",
    "import pandas as pd"
   ]
  },
  {
   "cell_type": "code",
   "execution_count": null,
   "id": "d402edca",
   "metadata": {},
   "outputs": [],
   "source": [
    "pdf_url = \"http://scholastictrust.org/wp-content/uploads/2023/11/2023-IJHS-members.pdf\""
   ]
  },
  {
   "cell_type": "code",
   "execution_count": null,
   "id": "d8436768",
   "metadata": {},
   "outputs": [],
   "source": [
    "tables = tabula.read_pdf(\n",
    "    pdf_url, pages=\"all\", multiple_tables=True, lattice=True\n",
    ") \n",
    "\n",
    "print(f\"Found {len(tables)} tables.\")"
   ]
  },
  {
   "cell_type": "code",
   "execution_count": null,
   "id": "67336e3b",
   "metadata": {},
   "outputs": [],
   "source": [
    "df = tables[0]\n",
    "df = pd.DataFrame(df)\n",
    "\n",
    "# Quick sanity check\n",
    "print(df.shape)\n",
    "print(df.columns)"
   ]
  },
  {
   "cell_type": "code",
   "execution_count": null,
   "id": "6277d8a9",
   "metadata": {},
   "outputs": [],
   "source": [
    "for i in range(1, len(tables)):\n",
    "    tables[i].columns = df.columns"
   ]
  },
  {
   "cell_type": "code",
   "execution_count": null,
   "id": "2a45cdc4",
   "metadata": {},
   "outputs": [],
   "source": [
    "df = pd.concat(tables, ignore_index=True)\n",
    "print(df.columns)\n",
    "print(df.shape)"
   ]
  },
  {
   "cell_type": "code",
   "execution_count": null,
   "id": "35a29539",
   "metadata": {},
   "outputs": [],
   "source": [
    "df = df.dropna(axis=1, how='all')"
   ]
  },
  {
   "cell_type": "code",
   "execution_count": null,
   "id": "ec1c451c",
   "metadata": {},
   "outputs": [],
   "source": [
    "os.makedirs(\"data\", exist_ok=True)\n",
    "df.to_csv(\"data/ijhs_202223.csv\", index=False)"
   ]
  }
 ],
 "metadata": {
  "kernelspec": {
   "display_name": ".venv",
   "language": "python",
   "name": "python3"
  },
  "language_info": {
   "codemirror_mode": {
    "name": "ipython",
    "version": 3
   },
   "file_extension": ".py",
   "mimetype": "text/x-python",
   "name": "python",
   "nbconvert_exporter": "python",
   "pygments_lexer": "ipython3",
   "version": "3.10.9"
  }
 },
 "nbformat": 4,
 "nbformat_minor": 5
}
