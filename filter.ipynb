{
 "cells": [
  {
   "cell_type": "code",
   "execution_count": null,
   "id": "cec47fe0",
   "metadata": {},
   "outputs": [],
   "source": [
    "import os\n",
    "import pandas as pd"
   ]
  },
  {
   "cell_type": "code",
   "execution_count": null,
   "id": "2990a8f5",
   "metadata": {},
   "outputs": [],
   "source": [
    "df = pd.read_csv(\"data/ijhs_202324_raw.csv\", encoding=\"latin-1\")"
   ]
  },
  {
   "cell_type": "code",
   "execution_count": null,
   "id": "991f117f",
   "metadata": {},
   "outputs": [],
   "source": [
    "keep = [\n",
    "    \"Grade\",\n",
    "    \"Country Name\",\n",
    "    \"School Name\",\n",
    "    \"Participant Name\",\n",
    "    \"IJHS New\",\n",
    "]\n",
    "df = df[keep]\n",
    "\n",
    "df = df.dropna(axis=1, how=\"all\")\n",
    "\n",
    "df = df.rename(\n",
    "    columns={\n",
    "        \"Country Name\": \"Country\",\n",
    "        \"School Name\": \"School\",\n",
    "        \"Participant Name\": \"Student Name\",\n",
    "        \"IJHS New\": \"IJHS\",\n",
    "    }\n",
    ")\n",
    "\n",
    "for c in [\"Country\", \"School\", \"Student Name\"]:\n",
    "    df[c] = df[c].str.strip()\n",
    "\n",
    "print(df.head())\n",
    "print(df.shape)"
   ]
  },
  {
   "cell_type": "code",
   "execution_count": null,
   "id": "5b11996f",
   "metadata": {},
   "outputs": [],
   "source": [
    "os.makedirs(\"data\", exist_ok=True)\n",
    "df.to_csv(\"data/ijhs_202324.csv\", index=False)"
   ]
  }
 ],
 "metadata": {
  "kernelspec": {
   "display_name": ".venv",
   "language": "python",
   "name": "python3"
  },
  "language_info": {
   "codemirror_mode": {
    "name": "ipython",
    "version": 3
   },
   "file_extension": ".py",
   "mimetype": "text/x-python",
   "name": "python",
   "nbconvert_exporter": "python",
   "pygments_lexer": "ipython3",
   "version": "3.10.9"
  }
 },
 "nbformat": 4,
 "nbformat_minor": 5
}
